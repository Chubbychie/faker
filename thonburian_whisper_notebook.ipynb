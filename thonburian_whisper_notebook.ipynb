{
  "cells": [
    {
      "cell_type": "markdown",
      "metadata": {
        "id": "view-in-github",
        "colab_type": "text"
      },
      "source": [
        "<a href=\"https://colab.research.google.com/github/Chubbychie/faker/blob/master/thonburian_whisper_notebook.ipynb\" target=\"_parent\"><img src=\"https://colab.research.google.com/assets/colab-badge.svg\" alt=\"Open In Colab\"/></a>"
      ]
    },
    {
      "cell_type": "markdown",
      "metadata": {
        "id": "jfwRQlTL3f-B"
      },
      "source": [
        "[![Open in Colab](https://colab.research.google.com/assets/colab-badge.svg)](https://colab.research.google.com/github/biodatlab/thonburian-whisper/blob/main/thonburian_whisper_notebook.ipynb)\n",
        "\n",
        "\n",
        "# **Thonburian Whisper**\n",
        "\n",
        "Automatic Speech Recognition (ASR) model for Thai\n",
        "\n",
        "<img src=\"https://raw.githubusercontent.com/biodatlab/thonburian-whisper/main/assets/thonburian-whisper-logo.png\" width=\"400\"/>\n",
        "---\n",
        "\n",
        "\n",
        "\n",
        "> By Crews from Looloo Technology and Mahidol University\n",
        "\n",
        "\n"
      ]
    },
    {
      "cell_type": "markdown",
      "metadata": {
        "id": "A1lQjz0zt-aK"
      },
      "source": [
        "## **Install Dependencies** ⚙"
      ]
    },
    {
      "cell_type": "code",
      "execution_count": null,
      "metadata": {
        "id": "I8Lqkjj6nNmP"
      },
      "outputs": [],
      "source": [
        "!pip install git+https://github.com/huggingface/transformers\n",
        "!pip install librosa\n",
        "!sudo apt install ffmpeg\n",
        "!pip install torchaudio ipywebrtc notebook\n",
        "!pip install -q gradio\n",
        "!pip install pytube\n",
        "!jupyter nbextension enable --py widgetsnbextension"
      ]
    },
    {
      "cell_type": "markdown",
      "metadata": {
        "id": "JkrrVAtKuCOq"
      },
      "source": [
        "## **Load and Set-up Thonburian Whisper 🤗**\n"
      ]
    },
    {
      "cell_type": "code",
      "execution_count": null,
      "metadata": {
        "id": "HyEVGSy_qrtO"
      },
      "outputs": [],
      "source": [
        "import os\n",
        "import torch\n",
        "from transformers import pipeline\n",
        "\n",
        "MODEL_NAME = \"biodatlab/whisper-th-medium-combined\"\n",
        "lang = \"th\"\n",
        "\n",
        "device = 0 if torch.cuda.is_available() else \"cpu\"\n",
        "\n",
        "pipe = pipeline(\n",
        "    task=\"automatic-speech-recognition\",\n",
        "    model=MODEL_NAME,\n",
        "    chunk_length_s=30,\n",
        "    device=device,\n",
        ")"
      ]
    },
    {
      "cell_type": "code",
      "source": [],
      "metadata": {
        "id": "V7pL6ksjE6jc"
      },
      "execution_count": null,
      "outputs": []
    },
    {
      "cell_type": "markdown",
      "metadata": {
        "id": "yrXA0ugawFt-"
      },
      "source": [
        "## **Try it with your own voice** 🎥"
      ]
    },
    {
      "cell_type": "markdown",
      "metadata": {
        "id": "TPiYmBwrsoSj"
      },
      "source": [
        "### Record your own audio here in the notebook!"
      ]
    },
    {
      "cell_type": "code",
      "execution_count": null,
      "metadata": {
        "id": "D9Ba8v2YtCOW"
      },
      "outputs": [],
      "source": [
        "from ipywebrtc import AudioRecorder, CameraStream\n",
        "from google.colab import output\n",
        "output.enable_custom_widget_manager()"
      ]
    },
    {
      "cell_type": "code",
      "execution_count": null,
      "metadata": {
        "id": "wbrDSRU-sjHk"
      },
      "outputs": [],
      "source": [
        "camera = CameraStream(constraints={'audio': True, 'video': False})\n",
        "recorder = AudioRecorder(stream=camera)\n",
        "recorder"
      ]
    },
    {
      "cell_type": "code",
      "execution_count": null,
      "metadata": {
        "id": "PJ9bxhAgtILk"
      },
      "outputs": [],
      "source": [
        "# Save the recorded audio.\n",
        "recorder.save(\"audio.mp3\")"
      ]
    },
    {
      "cell_type": "markdown",
      "metadata": {
        "id": "9G_hPm3JtiMv"
      },
      "source": [
        "### Now let our *Thonburian Whisper* do the work!!"
      ]
    },
    {
      "cell_type": "code",
      "execution_count": null,
      "metadata": {
        "id": "K1Nf_1bbtTOa"
      },
      "outputs": [],
      "source": [
        "transcriptions = pipe(\n",
        "    \"audio.mp3\",\n",
        "    batch_size=16,\n",
        "    return_timestamps=False,\n",
        "    generate_kwargs={\"language\": \"<|th|>\", \"task\": \"transcribe\"}\n",
        ")[\"text\"]\n",
        "print(transcriptions)\n"
      ]
    },
    {
      "cell_type": "markdown",
      "metadata": {
        "id": "RqgbYmaHuTrl"
      },
      "source": [
        "## **Transcribe a Youtube Video?**\n",
        "\n",
        "> [![Watch the video](https://img.youtube.com/vi/jwBqoBIDv3o/default.jpg)](https://www.youtube.com/watch?v=jwBqoBIDv3o)\n",
        "\n",
        "\n"
      ]
    },
    {
      "cell_type": "code",
      "execution_count": null,
      "metadata": {
        "id": "KAmKBxFouNpe"
      },
      "outputs": [],
      "source": [
        "import pytube as pt\n",
        "\n",
        "\n",
        "def yt_transcribe(yt_url: str):\n",
        "    \"\"\"Transcribe a given Youtube URL\"\"\"\n",
        "    yt = pt.YouTube(yt_url)\n",
        "    stream = yt.streams.filter(only_audio=True)[0]\n",
        "    stream.download(filename=\"audio.mp3\")\n",
        "    text = pipe(\n",
        "        \"audio.mp3\",\n",
        "        generate_kwargs={\"language\": \"<|th|>\", \"task\": \"transcribe\"},\n",
        "        return_timestamps=False,\n",
        "        batch_size=16\n",
        "    )\n",
        "    return text"
      ]
    },
    {
      "cell_type": "code",
      "execution_count": null,
      "metadata": {
        "id": "0mkLdgcjumxL"
      },
      "outputs": [],
      "source": [
        "# This may take some time depending on the length of the video.\n",
        "url = \"https://www.youtube.com/watch?v=jwBqoBIDv3o\"\n",
        "\n",
        "transcriptions = yt_transcribe(url)\n",
        "print(transcriptions[\"text\"])"
      ]
    }
  ],
  "metadata": {
    "accelerator": "GPU",
    "colab": {
      "collapsed_sections": [
        "TPiYmBwrsoSj",
        "9G_hPm3JtiMv"
      ],
      "provenance": [],
      "include_colab_link": true
    },
    "gpuClass": "standard",
    "kernelspec": {
      "display_name": "Python 3 (ipykernel)",
      "language": "python",
      "name": "python3"
    },
    "language_info": {
      "codemirror_mode": {
        "name": "ipython",
        "version": 3
      },
      "file_extension": ".py",
      "mimetype": "text/x-python",
      "name": "python",
      "nbconvert_exporter": "python",
      "pygments_lexer": "ipython3",
      "version": "3.7.5"
    },
    "vscode": {
      "interpreter": {
        "hash": "94499b8ebe41d82c56ca741edd2212fa3535c1025402838f7d8b62fb6e0f95b1"
      }
    }
  },
  "nbformat": 4,
  "nbformat_minor": 0
}